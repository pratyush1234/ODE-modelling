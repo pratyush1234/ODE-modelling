{
  "nbformat": 4,
  "nbformat_minor": 0,
  "metadata": {
    "colab": {
      "name": "Untitled0.ipynb",
      "provenance": [],
      "authorship_tag": "ABX9TyNQlZMwECe/Gsn60pYs+RUR",
      "include_colab_link": true
    },
    "kernelspec": {
      "name": "python3",
      "display_name": "Python 3"
    },
    "language_info": {
      "name": "python"
    }
  },
  "cells": [
    {
      "cell_type": "markdown",
      "metadata": {
        "id": "view-in-github",
        "colab_type": "text"
      },
      "source": [
        "<a href=\"https://colab.research.google.com/github/pratyush1234/Fibonacci-series/blob/master/ODE1.ipynb\" target=\"_parent\"><img src=\"https://colab.research.google.com/assets/colab-badge.svg\" alt=\"Open In Colab\"/></a>"
      ]
    },
    {
      "cell_type": "markdown",
      "source": [
        "Mass conservation of moisture in secondary channel"
      ],
      "metadata": {
        "id": "S0mKT38Csv2I"
      }
    },
    {
      "cell_type": "code",
      "execution_count": 21,
      "metadata": {
        "id": "YNzksV0Zskf7"
      },
      "outputs": [],
      "source": [
        "import numpy as np\n",
        "from scipy.integrate import odeint\n",
        "import matplotlib.pyplot as plt\n"
      ]
    },
    {
      "cell_type": "markdown",
      "source": [
        "function that returns dy/dt"
      ],
      "metadata": {
        "id": "ZN500Yd2uOn-"
      }
    },
    {
      "cell_type": "code",
      "source": [
        "def model (y,t):\n",
        "  k = 0.5\n",
        "  dydt = -k*y\n",
        "  return dydt\n",
        "\n"
      ],
      "metadata": {
        "id": "NGcO43RFuyW1"
      },
      "execution_count": 22,
      "outputs": []
    },
    {
      "cell_type": "markdown",
      "source": [
        "intial condition"
      ],
      "metadata": {
        "id": "LtTqK_F4mu5G"
      }
    },
    {
      "cell_type": "code",
      "source": [
        "y0 = 2.6"
      ],
      "metadata": {
        "id": "Y04RCHnOtlqH"
      },
      "execution_count": 26,
      "outputs": []
    },
    {
      "cell_type": "markdown",
      "source": [
        "time points"
      ],
      "metadata": {
        "id": "ePjn-jvpm6-w"
      }
    },
    {
      "cell_type": "code",
      "source": [
        "t = np.linspace(0,30)"
      ],
      "metadata": {
        "id": "JTKY_pogm_3e"
      },
      "execution_count": 28,
      "outputs": []
    },
    {
      "cell_type": "markdown",
      "source": [
        "solve ODE"
      ],
      "metadata": {
        "id": "Ecf-Ws2tnT1E"
      }
    },
    {
      "cell_type": "code",
      "source": [
        "y = odeint(model,y0,t)"
      ],
      "metadata": {
        "id": "6OTgvnBzokCN"
      },
      "execution_count": 29,
      "outputs": []
    },
    {
      "cell_type": "markdown",
      "source": [
        "plot result"
      ],
      "metadata": {
        "id": "clgGx45hnrE_"
      }
    },
    {
      "cell_type": "code",
      "source": [
        "plt.plot(t,y)\n",
        "plt.xlabel('time')\n",
        "plt.ylabel('y(t)')"
      ],
      "metadata": {
        "colab": {
          "base_uri": "https://localhost:8080/",
          "height": 296
        },
        "id": "3japoQzzns6L",
        "outputId": "713fe76e-ae9b-4913-9f90-0771e654531e"
      },
      "execution_count": 30,
      "outputs": [
        {
          "output_type": "execute_result",
          "data": {
            "text/plain": [
              "Text(0, 0.5, 'y(t)')"
            ]
          },
          "metadata": {},
          "execution_count": 30
        },
        {
          "output_type": "display_data",
          "data": {
            "text/plain": [
              "<Figure size 432x288 with 1 Axes>"
            ],
            "image/png": "[encoded data removed]"
          },
          "metadata": {
            "needs_background": "light"
          }
        }
      ]
    }
  ]
}