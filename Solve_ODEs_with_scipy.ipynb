{
  "cells": [
    {
      "cell_type": "markdown",
      "metadata": {
        "id": "cc7fkoA2xLjp"
      },
      "source": [
        "## Solve Differential Equations in Python\n",
        "\n",
        "![Solve with ODEINT](https://apmonitor.com/pdc/uploads/Main/solve_odeint.png)\n",
        "\n",
        "See https://apmonitor.com/pdc for [source code](https://apmonitor.com/pdc/index.php/Main/SolveDifferentialEquations) and additional material."
      ]
    },
    {
      "cell_type": "markdown",
      "metadata": {
        "id": "AMDNUeiTxLjr"
      },
      "source": [
        "Differential equations are solved in Python with the Scipy.integrate package using function __odeint__ or __solve_ivp__. Another Python package that solves differential equations is [GEKKO](https://gekko.readthedocs.io/en/latest/). See this [link for the same tutorial in GEKKO](https://apmonitor.com/pdc/Main/PythonDifferentialEquations) versus ODEINT. ODEINT requires three inputs:\n",
        "\n",
        "```python\n",
        "y = odeint(model, y0, t)\n",
        "```\n",
        "\n",
        "__model__: Function name that returns derivative values at requested y and t values as dydt = model(y,t)\n",
        "\n",
        "__y0__: Initial conditions of the differential states\n",
        "\n",
        "__t__: Time points at which the solution should be reported. Additional internal points are often calculated to maintain accuracy of the solution but are not reported."
      ]
    },
    {
      "cell_type": "markdown",
      "metadata": {
        "id": "F_QUyg4LxLjt"
      },
      "source": [
        "## Example Problem"
      ]
    },
    {
      "cell_type": "markdown",
      "metadata": {
        "id": "DBgIBpP-xLjt"
      },
      "source": [
        "An example of using _odeint_ is with the following differential equation with parameter $k=0.3$, the initial condition $y_0=5$ and the following differential equation.\n",
        "\n",
        "$\\frac{dy(t)}{dt} = -k \\; y(t)$\n",
        "\n",
        "The Python code first imports the needed Numpy, Scipy, and Matplotlib packages. The model, initial conditions, and time points are defined as inputs to _odeint_ to numerically calculate $y(t)$."
      ]
    },
    {
      "cell_type": "code",
      "execution_count": 2,
      "metadata": {
        "id": "SX-4xQXYxLjv",
        "outputId": "a191fc18-b458-46c7-c763-81d645d8911f",
        "colab": {
          "base_uri": "https://localhost:8080/",
          "height": 279
        }
      },
      "outputs": [
        {
          "output_type": "display_data",
          "data": {
            "text/plain": [
              "<Figure size 432x288 with 1 Axes>"
            ],
            "image/png": "[encoded data removed]"
          },
          "metadata": {
            "needs_background": "light"
          }
        }
      ],
      "source": [
        "from scipy.integrate import odeint\n",
        "import numpy as np\n",
        "import matplotlib.pyplot as plt\n",
        "\n",
        "# function that returns dy/dt\n",
        "def model(y,t):\n",
        "    k = 0.3\n",
        "    dydt = -k * y\n",
        "    return dydt\n",
        "\n",
        "# initial condition\n",
        "y0 = 5\n",
        "\n",
        "# time points\n",
        "t = np.linspace(0,20)\n",
        "\n",
        "# solve ODE\n",
        "y = odeint(model,y0,t)\n",
        "\n",
        "# plot results\n",
        "plt.plot(t,y)\n",
        "plt.xlabel('time')\n",
        "plt.ylabel('y(t)')\n",
        "plt.show()"
      ]
    },
    {
      "cell_type": "markdown",
      "metadata": {
        "id": "Dvd9Kb6oxLjx"
      },
      "source": [
        "## Additional Input Arguments\n",
        "\n",
        "An optional fourth input is _args_ that allows additional information to be passed into the _model_ function. The _args_ input is a tuple sequence of values. The argument $k$ is now an input to the _model_ function by including an addition argument.\n",
        "\n",
        "```python\n",
        "y = odeint(model, y0, t, args)\n",
        "```\n",
        "\n",
        "__args__: Additional inputs to the model."
      ]
    },
    {
      "cell_type": "code",
      "execution_count": 3,
      "metadata": {
        "id": "VeTLJ5r2xLjy",
        "outputId": "91f720b8-5cca-42dd-bca9-19a987d922f5",
        "colab": {
          "base_uri": "https://localhost:8080/",
          "height": 279
        }
      },
      "outputs": [
        {
          "output_type": "display_data",
          "data": {
            "text/plain": [
              "<Figure size 432x288 with 1 Axes>"
            ],
            "image/png": "[encoded data removed]"
          },
          "metadata": {
            "needs_background": "light"
          }
        }
      ],
      "source": [
        "import numpy as np\n",
        "from scipy.integrate import odeint\n",
        "import matplotlib.pyplot as plt\n",
        "\n",
        "# function that returns dy/dt\n",
        "def model(y,t,k):\n",
        "    dydt = -k * y\n",
        "    return dydt\n",
        "\n",
        "# initial condition\n",
        "y0 = 5\n",
        "\n",
        "# time points\n",
        "t = np.linspace(0,20)\n",
        "\n",
        "# solve ODEs\n",
        "k = 0.1\n",
        "y1 = odeint(model,y0,t,args=(k,))\n",
        "k = 0.2\n",
        "y2 = odeint(model,y0,t,args=(k,))\n",
        "k = 0.5\n",
        "y3 = odeint(model,y0,t,args=(k,))\n",
        "\n",
        "# plot results\n",
        "plt.plot(t,y1,'r-',linewidth=2,label='k=0.1')\n",
        "plt.plot(t,y2,'b--',linewidth=2,label='k=0.2')\n",
        "plt.plot(t,y3,'g:',linewidth=2,label='k=0.5')\n",
        "plt.xlabel('time')\n",
        "plt.ylabel('y(t)')\n",
        "plt.legend()\n",
        "plt.show()"
      ]
    },
    {
      "cell_type": "markdown",
      "metadata": {
        "id": "wUE3T8jXxLjz"
      },
      "source": [
        "## Exercises\n",
        "\n",
        "Find a numerical solution to the following differential equations with the associated initial conditions. Expand the requested time horizon until the solution reaches a steady state. Show a plot of the states ($x(t)$ and/or $y(t)$). Report the final value of each state as $t \\to \\infty$.\n",
        "\n",
        "## Problem 1\n",
        "\n",
        "$\\frac{dy(t)}{dt} = -y(t) + 1$\n",
        "\n",
        "$y(0) = 0$"
      ]
    },
    {
      "cell_type": "code",
      "execution_count": 7,
      "metadata": {
        "id": "b9GUS4JYxLj0",
        "outputId": "c87d3e26-70f7-4f21-9c87-a8358534463f",
        "colab": {
          "base_uri": "https://localhost:8080/",
          "height": 279
        }
      },
      "outputs": [
        {
          "output_type": "display_data",
          "data": {
            "text/plain": [
              "<Figure size 432x288 with 1 Axes>"
            ],
            "image/png": "[encoded data removed]"
          },
          "metadata": {
            "needs_background": "light"
          }
        }
      ],
      "source": [
        "# function that returns dy/dt\n",
        "def model(y,t):\n",
        "    dydt = 5*(1.0 - y)\n",
        "    return dydt\n",
        "\n",
        "# initial condition\n",
        "y0 = 0\n",
        "\n",
        "# time points\n",
        "t = np.linspace(0,5)\n",
        "\n",
        "# solve ODE\n",
        "y = odeint(model,y0,t)\n",
        "\n",
        "# plot results\n",
        "plt.plot(t,y)\n",
        "plt.xlabel('time')\n",
        "plt.ylabel('y(t)')\n",
        "plt.show()"
      ]
    },
    {
      "cell_type": "markdown",
      "metadata": {
        "id": "UF5kF2RXxLj1"
      },
      "source": [
        "## Problem 2\n",
        "\n",
        "$5 \\; \\frac{dy(t)}{dt} = -y(t) + u(t)$\n",
        "\n",
        "$y(0) = 1$\n",
        "\n",
        "$u$ steps from $0$ to $2$ at $t=10$"
      ]
    },
    {
      "cell_type": "code",
      "execution_count": 1,
      "metadata": {
        "id": "TrQk2TvmxLj1",
        "outputId": "9ef39386-cc41-460c-cbce-d0577814dc97",
        "colab": {
          "base_uri": "https://localhost:8080/",
          "height": 235
        }
      },
      "outputs": [
        {
          "output_type": "error",
          "ename": "NameError",
          "evalue": "ignored",
          "traceback": [
            "\u001b[0;31m---------------------------------------------------------------------------\u001b[0m",
            "\u001b[0;31mNameError\u001b[0m                                 Traceback (most recent call last)",
            "\u001b[0;32m<ipython-input-1-52df7bc1ba8f>\u001b[0m in \u001b[0;36m<module>\u001b[0;34m()\u001b[0m\n\u001b[1;32m     13\u001b[0m \u001b[0;34m\u001b[0m\u001b[0m\n\u001b[1;32m     14\u001b[0m \u001b[0;31m# time points\u001b[0m\u001b[0;34m\u001b[0m\u001b[0;34m\u001b[0m\u001b[0;34m\u001b[0m\u001b[0m\n\u001b[0;32m---> 15\u001b[0;31m \u001b[0mt\u001b[0m \u001b[0;34m=\u001b[0m \u001b[0mnp\u001b[0m\u001b[0;34m.\u001b[0m\u001b[0mlinspace\u001b[0m\u001b[0;34m(\u001b[0m\u001b[0;36m0\u001b[0m\u001b[0;34m,\u001b[0m\u001b[0;36m40\u001b[0m\u001b[0;34m,\u001b[0m\u001b[0;36m1000\u001b[0m\u001b[0;34m)\u001b[0m\u001b[0;34m\u001b[0m\u001b[0;34m\u001b[0m\u001b[0m\n\u001b[0m\u001b[1;32m     16\u001b[0m \u001b[0;34m\u001b[0m\u001b[0m\n\u001b[1;32m     17\u001b[0m \u001b[0;31m# solve ODE\u001b[0m\u001b[0;34m\u001b[0m\u001b[0;34m\u001b[0m\u001b[0;34m\u001b[0m\u001b[0m\n",
            "\u001b[0;31mNameError\u001b[0m: name 'np' is not defined"
          ]
        }
      ],
      "source": [
        "# function that returns dy/dt\n",
        "def model(y,t):\n",
        "    # u steps from 0 to 2 at t=10\n",
        "    if t<10.0:\n",
        "        u = 0\n",
        "    else:\n",
        "        u = 2\n",
        "    dydt = (-y + u)/5.0\n",
        "    return dydt\n",
        "\n",
        "# initial condition\n",
        "y0 = 1\n",
        "\n",
        "# time points\n",
        "t = np.linspace(0,40,1000)\n",
        "\n",
        "# solve ODE\n",
        "y = odeint(model,y0,t)\n",
        "\n",
        "# plot results\n",
        "plt.plot(t,y,'r-',label='Output (y(t))')\n",
        "plt.plot([0,10,10,40],[0,0,2,2],'b-',label='Input (u(t))')\n",
        "plt.ylabel('values')\n",
        "plt.xlabel('time')\n",
        "plt.legend(loc='best')\n",
        "plt.show()"
      ]
    },
    {
      "cell_type": "markdown",
      "metadata": {
        "id": "AqviHYxbxLj1"
      },
      "source": [
        "## Problem 3\n",
        "\n",
        "Solve for $x(t)$ and $y(t)$ and show that the solutions are equivalent.\n",
        "\n",
        "$\\frac{dx(t)}{dt} = 3 \\; exp(-t)$\n",
        "\n",
        "$\\frac{dy(t)}{dt} = 3 - y(t)$\n",
        "\n",
        "$x(0) = 0$\n",
        "\n",
        "$y(0) = 0$"
      ]
    },
    {
      "cell_type": "code",
      "execution_count": null,
      "metadata": {
        "id": "V2L_bux4xLj2"
      },
      "outputs": [],
      "source": [
        "# function that returns dz/dt\n",
        "def model(z,t):\n",
        "    dxdt = 3.0 * np.exp(-t)\n",
        "    dydt = -z[1] + 3\n",
        "    dzdt = [dxdt,dydt]\n",
        "    return dzdt\n",
        "\n",
        "# initial condition\n",
        "z0 = [0,0]\n",
        "\n",
        "# time points\n",
        "t = np.linspace(0,5)\n",
        "\n",
        "# solve ODE\n",
        "z = odeint(model,z0,t)\n",
        "\n",
        "# plot results\n",
        "plt.plot(t,z[:,0],'b-',label=r'$\\frac{dx}{dt}=3 \\; \\exp(-t)$')\n",
        "plt.plot(t,z[:,1],'r--',label=r'$\\frac{dy}{dt}=-y+3$')\n",
        "plt.ylabel('response')\n",
        "plt.xlabel('time')\n",
        "plt.legend(loc='best')\n",
        "plt.show()"
      ]
    },
    {
      "cell_type": "markdown",
      "metadata": {
        "id": "whbJrOUaxLj2"
      },
      "source": [
        "## Problem 4\n",
        "\n",
        "$2 \\; \\frac{dx(t)}{dt} = -x(t) + u(t)$\n",
        "\n",
        "$5 \\; \\frac{dy(t)}{dt} = -y(t) + x(t)$\n",
        "\n",
        "$u = 2 \\, S(t-5)$\n",
        "\n",
        "$x(0) = 0$\n",
        "\n",
        "$y(0) = 0$\n",
        "\n",
        "where $S(t-5)$ is a step function that changes from zero to one at $t=5$. When it is multiplied by two, it changes from zero to two at that same time, $t=5$."
      ]
    },
    {
      "cell_type": "code",
      "execution_count": null,
      "metadata": {
        "id": "My3EVPzQxLj2"
      },
      "outputs": [],
      "source": [
        "# function that returns dz/dt\n",
        "def model(z,t,u):\n",
        "    x = z[0]\n",
        "    y = z[1]\n",
        "    dxdt = (-x + u)/2.0\n",
        "    dydt = (-y + x)/5.0\n",
        "    dzdt = [dxdt,dydt]\n",
        "    return dzdt\n",
        "\n",
        "# initial condition\n",
        "z0 = [0,0]\n",
        "\n",
        "# number of time points\n",
        "n = 401\n",
        "\n",
        "# time points\n",
        "t = np.linspace(0,40,n)\n",
        "\n",
        "# step input\n",
        "u = np.zeros(n)\n",
        "# change to 2.0 at time = 5.0\n",
        "u[51:] = 2.0\n",
        "\n",
        "# store solution\n",
        "x = np.empty_like(t)\n",
        "y = np.empty_like(t)\n",
        "# record initial conditions\n",
        "x[0] = z0[0]\n",
        "y[0] = z0[1]\n",
        "\n",
        "# solve ODE\n",
        "for i in range(1,n):\n",
        "    # span for next time step\n",
        "    tspan = [t[i-1],t[i]]\n",
        "    # solve for next step\n",
        "    z = odeint(model,z0,tspan,args=(u[i],))\n",
        "    # store solution for plotting\n",
        "    x[i] = z[1][0]\n",
        "    y[i] = z[1][1]\n",
        "    # next initial condition\n",
        "    z0 = z[1] \n",
        "\n",
        "# plot results\n",
        "plt.plot(t,u,'g:',label='u(t)')\n",
        "plt.plot(t,x,'b-',label='x(t)')\n",
        "plt.plot(t,y,'r--',label='y(t)')\n",
        "plt.ylabel('values')\n",
        "plt.xlabel('time')\n",
        "plt.legend(loc='best')\n",
        "plt.show()"
      ]
    }
  ],
  "metadata": {
    "kernelspec": {
      "display_name": "Python 3",
      "language": "python",
      "name": "python3"
    },
    "language_info": {
      "codemirror_mode": {
        "name": "ipython",
        "version": 3
      },
      "file_extension": ".py",
      "mimetype": "text/x-python",
      "name": "python",
      "nbconvert_exporter": "python",
      "pygments_lexer": "ipython3",
      "version": "3.8.5"
    },
    "colab": {
      "name": "Solve_ODEs_with_scipy.ipynb",
      "provenance": []
    }
  },
  "nbformat": 4,
  "nbformat_minor": 0
}